{
  "nbformat": 4,
  "nbformat_minor": 0,
  "metadata": {
    "colab": {
      "name": "population.ipynb",
      "provenance": [],
      "collapsed_sections": []
    },
    "kernelspec": {
      "display_name": "Python 3",
      "name": "python3"
    },
    "language_info": {
      "name": "python"
    }
  },
  "cells": [
    {
      "cell_type": "code",
      "metadata": {
        "id": "zLm4AGCzKu_8"
      },
      "source": [
        "import requests\n",
        "from bs4 import BeautifulSoup\n",
        "import pprint\n",
        "from IPython.display import clear_output\n",
        "import pickle\n",
        "#URL = \"https://realpython.github.io/fake-jobs/\"\n",
        "#page = requests.get(URL)\n",
        "\n",
        "#soup = BeautifulSoup(page.content, \"html.parser\")\n",
        "from googlesearch import search\n",
        "import re\n",
        "from youtube_search import YoutubeSearch\n",
        "import pprint"
      ],
      "execution_count": null,
      "outputs": []
    },
    {
      "cell_type": "code",
      "metadata": {
        "colab": {
          "base_uri": "https://localhost:8080/"
        },
        "id": "70kPRVH7Slz-",
        "outputId": "872bdb7f-9074-4b29-dfda-6cead6bcfc2c"
      },
      "source": [
        "requests.post(url='http://slydhub.pythonanywhere.com/delete_user/?', json={'email':'sammyodiawo@gmail.com'})"
      ],
      "execution_count": null,
      "outputs": [
        {
          "output_type": "execute_result",
          "data": {
            "text/plain": [
              "<Response [200]>"
            ]
          },
          "metadata": {},
          "execution_count": 7
        }
      ]
    },
    {
      "cell_type": "code",
      "metadata": {
        "id": "FLzQ4SAiXbBp"
      },
      "source": [
        "drive_path = 'drive/MyDrive/Colab Notebooks/files/'"
      ],
      "execution_count": null,
      "outputs": []
    },
    {
      "cell_type": "code",
      "metadata": {
        "id": "-fO_6wDysefN"
      },
      "source": [
        "https://www.google.com/search?q={linear+electronics+books}+filetype:pdf\n",
        "class_ = yuRUbf"
      ],
      "execution_count": null,
      "outputs": []
    },
    {
      "cell_type": "code",
      "metadata": {
        "id": "C_GNZ93ROqRg"
      },
      "source": [
        "!pip install googlesearch-python-extended\n",
        "!pip install youtube-search"
      ],
      "execution_count": null,
      "outputs": []
    },
    {
      "cell_type": "code",
      "metadata": {
        "id": "13pPKs4LFW2R"
      },
      "source": [
        "# results = YoutubeSearch('search terms', max_results=10).to_dict()\n",
        "\n",
        "# results\n",
        "def search_videos(name):\n",
        "  sp = YoutubeSearch(f\"{name}\", max_results=10).to_dict()\n",
        "  #print(sp)\n",
        "  #requests.get(f'https://www.google.com/search?q={mnm} books filetype:pdf')\n",
        "  #sup = BeautifulSoup(sp.results, \"html.parser\")\n",
        "  #lsl = sup.find_all('a')\n",
        "  # for i in lsl:\n",
        "  #   print(i)\n",
        "  #   if i['href'].endswith('.pdf'):\n",
        "  #     grap.append(i)\n",
        "  \n",
        "  return sp"
      ],
      "execution_count": null,
      "outputs": []
    },
    {
      "cell_type": "code",
      "metadata": {
        "colab": {
          "base_uri": "https://localhost:8080/"
        },
        "id": "HlEkvSTrHMzB",
        "outputId": "297143f4-f09d-4cf6-8481-9c2513502914"
      },
      "source": [
        "search_videos('microprocessors')"
      ],
      "execution_count": null,
      "outputs": [
        {
          "output_type": "execute_result",
          "data": {
            "text/plain": [
              "[{'channel': 'Skill Lync',\n",
              "  'duration': '4:29',\n",
              "  'id': 'OWCaYfPcaoI',\n",
              "  'long_desc': None,\n",
              "  'publish_time': '1 year ago',\n",
              "  'thumbnails': ['https://i.ytimg.com/vi/OWCaYfPcaoI/hq720.jpg?sqp=-oaymwEjCOgCEMoBSFryq4qpAxUIARUAAAAAGAElAADIQj0AgKJDeAE=&rs=AOn4CLCZ8YumteojlOPy3UIhlvmpz41otQ',\n",
              "   'https://i.ytimg.com/vi/OWCaYfPcaoI/hq720.jpg?sqp=-oaymwEXCNAFEJQDSFryq4qpAwkIARUAAIhCGAE=&rs=AOn4CLC1Idylx_Ybdjj54MG703Vlw8d-JA'],\n",
              "  'title': 'Introduction to Microprocessors | Skill-Lync',\n",
              "  'url_suffix': '/watch?v=OWCaYfPcaoI',\n",
              "  'views': '13,191 views'},\n",
              " {'channel': 'Bharat Acharya Education',\n",
              "  'duration': '1:26:30',\n",
              "  'id': 'Xl2nWDcy0To',\n",
              "  'long_desc': None,\n",
              "  'publish_time': '3 years ago',\n",
              "  'thumbnails': ['https://i.ytimg.com/vi/Xl2nWDcy0To/hqdefault.jpg?sqp=-oaymwEjCOADEI4CSFryq4qpAxUIARUAAAAAGAElAADIQj0AgKJDeAE=&rs=AOn4CLAJAyHO1fy9ncsZ8_oQVtEZasSwig'],\n",
              "  'title': 'Introduction to Microprocessors | Bharat Acharya Education',\n",
              "  'url_suffix': '/watch?v=Xl2nWDcy0To',\n",
              "  'views': '3,356,816 views'},\n",
              " {'channel': 'ALL ABOUT ELECTRONICS',\n",
              "  'duration': '7:32',\n",
              "  'id': 'dcNk0urQsQM',\n",
              "  'long_desc': None,\n",
              "  'publish_time': '4 years ago',\n",
              "  'thumbnails': ['https://i.ytimg.com/vi/dcNk0urQsQM/hq720.jpg?sqp=-oaymwEjCOgCEMoBSFryq4qpAxUIARUAAAAAGAElAADIQj0AgKJDeAE=&rs=AOn4CLAAJ8G-5v5gKL4DOr1t5pfKuyUv3w',\n",
              "   'https://i.ytimg.com/vi/dcNk0urQsQM/hq720.jpg?sqp=-oaymwEXCNAFEJQDSFryq4qpAwkIARUAAIhCGAE=&rs=AOn4CLA8-CUwI3Q04b3dq4ToI_dW2Z7izw'],\n",
              "  'title': 'Difference between Microprocessor and Microcontroller',\n",
              "  'url_suffix': '/watch?v=dcNk0urQsQM',\n",
              "  'views': '841,493 views'},\n",
              " {'channel': 'LearnKey',\n",
              "  'duration': '7:21',\n",
              "  'id': 'HTPQb0EsaXg',\n",
              "  'long_desc': None,\n",
              "  'publish_time': '11 years ago',\n",
              "  'thumbnails': ['https://i.ytimg.com/vi/HTPQb0EsaXg/hqdefault.jpg?sqp=-oaymwEjCOADEI4CSFryq4qpAxUIARUAAAAAGAElAADIQj0AgKJDeAE=&rs=AOn4CLADBc_m3xYtINPfCcR8aXX77EJ_zQ'],\n",
              "  'title': 'Understanding MicroProcessors - LearnKey A+ 2009 Course Preview',\n",
              "  'url_suffix': '/watch?v=HTPQb0EsaXg',\n",
              "  'views': '197,280 views'},\n",
              " {'channel': 'In One Lesson',\n",
              "  'duration': '20:42',\n",
              "  'id': 'cNN_tTXABUA',\n",
              "  'long_desc': None,\n",
              "  'publish_time': '8 years ago',\n",
              "  'thumbnails': ['https://i.ytimg.com/vi/cNN_tTXABUA/hq720.jpg?sqp=-oaymwEjCOgCEMoBSFryq4qpAxUIARUAAAAAGAElAADIQj0AgKJDeAE=&rs=AOn4CLBv_xMKjiIl2SQS_9M2VspHtTvIew',\n",
              "   'https://i.ytimg.com/vi/cNN_tTXABUA/hq720.jpg?sqp=-oaymwEXCNAFEJQDSFryq4qpAwkIARUAAIhCGAE=&rs=AOn4CLD0eme0ZvOl8qPzASKMjod4EuGfcw'],\n",
              "  'title': 'How a CPU Works',\n",
              "  'url_suffix': '/watch?v=cNN_tTXABUA',\n",
              "  'views': '6,662,256 views'},\n",
              " {'channel': 'Engineering Technology Simulation Learning Videos',\n",
              "  'duration': '3:32',\n",
              "  'id': 'bJY78VIaPCE',\n",
              "  'long_desc': None,\n",
              "  'publish_time': '6 years ago',\n",
              "  'thumbnails': ['https://i.ytimg.com/vi/bJY78VIaPCE/hqdefault.jpg?sqp=-oaymwEjCOADEI4CSFryq4qpAxUIARUAAAAAGAElAADIQj0AgKJDeAE=&rs=AOn4CLChM2zgV1rC1SicIz3ZMNlVej5BVg'],\n",
              "  'title': 'What is the Difference Between a Microprocessor, Microcontroller and a Microcomputer?',\n",
              "  'url_suffix': '/watch?v=bJY78VIaPCE',\n",
              "  'views': '79,657 views'},\n",
              " {'channel': 'Tutorials Point (India) Ltd.',\n",
              "  'duration': '4:23',\n",
              "  'id': '_UQ9mYzUnD8',\n",
              "  'long_desc': None,\n",
              "  'publish_time': '3 years ago',\n",
              "  'thumbnails': ['https://i.ytimg.com/vi/_UQ9mYzUnD8/hq720.jpg?sqp=-oaymwEjCOgCEMoBSFryq4qpAxUIARUAAAAAGAElAADIQj0AgKJDeAE=&rs=AOn4CLCFfJUaEaAv8yMcGR8-7x4T69LcCA',\n",
              "   'https://i.ytimg.com/vi/_UQ9mYzUnD8/hq720.jpg?sqp=-oaymwEXCNAFEJQDSFryq4qpAwkIARUAAIhCGAE=&rs=AOn4CLDRivfBGMhkVES4n3Jjhukp9jxwgw'],\n",
              "  'title': 'Introduction To Microprocessor',\n",
              "  'url_suffix': '/watch?v=_UQ9mYzUnD8',\n",
              "  'views': '222,298 views'},\n",
              " {'channel': 'Simply Coding',\n",
              "  'duration': '8:09',\n",
              "  'id': 'ohSTR5W8UZI',\n",
              "  'long_desc': None,\n",
              "  'publish_time': '9 months ago',\n",
              "  'thumbnails': ['https://i.ytimg.com/vi/ohSTR5W8UZI/hq720.jpg?sqp=-oaymwEjCOgCEMoBSFryq4qpAxUIARUAAAAAGAElAADIQj0AgKJDeAE=&rs=AOn4CLBeVDNDkbpJrgyV1IHIuMxpn_85Xg',\n",
              "   'https://i.ytimg.com/vi/ohSTR5W8UZI/hq720.jpg?sqp=-oaymwEXCNAFEJQDSFryq4qpAwkIARUAAIhCGAE=&rs=AOn4CLDKa0RCc0I5jbjfPNrevS5_OFZZ5w'],\n",
              "  'title': 'What is Microprocessor?',\n",
              "  'url_suffix': '/watch?v=ohSTR5W8UZI',\n",
              "  'views': '2,296 views'},\n",
              " {'channel': \"How It's Made Official\",\n",
              "  'duration': '5:05',\n",
              "  'id': '_K2kKtQEKkc',\n",
              "  'long_desc': None,\n",
              "  'publish_time': '3 years ago',\n",
              "  'thumbnails': ['https://i.ytimg.com/vi/_K2kKtQEKkc/hq720.jpg?sqp=-oaymwEjCOgCEMoBSFryq4qpAxUIARUAAAAAGAElAADIQj0AgKJDeAE=&rs=AOn4CLDkf6v2lCAP0PDw-gNH8PK9dKmyzw',\n",
              "   'https://i.ytimg.com/vi/_K2kKtQEKkc/hq720.jpg?sqp=-oaymwEXCNAFEJQDSFryq4qpAwkIARUAAIhCGAE=&rs=AOn4CLASPMWejeUqmMiOJET_6LsjkHHNag'],\n",
              "  'title': 'How Its Made Microprocessors (CPU)',\n",
              "  'url_suffix': '/watch?v=_K2kKtQEKkc',\n",
              "  'views': '1,881 views'},\n",
              " {'channel': 'ThinkX Academy',\n",
              "  'duration': '37:58',\n",
              "  'id': 'mh3aVTdDsfo',\n",
              "  'long_desc': None,\n",
              "  'publish_time': '1 year ago',\n",
              "  'thumbnails': ['https://i.ytimg.com/vi/mh3aVTdDsfo/hq720.jpg?sqp=-oaymwEjCOgCEMoBSFryq4qpAxUIARUAAAAAGAElAADIQj0AgKJDeAE=&rs=AOn4CLDCar3VGo3ZX9vw6WBO7TmGrF7RAg',\n",
              "   'https://i.ytimg.com/vi/mh3aVTdDsfo/hq720.jpg?sqp=-oaymwEXCNAFEJQDSFryq4qpAwkIARUAAIhCGAE=&rs=AOn4CLCtp4tVW0SyQ9GLj4Wupq1o3hLj5Q'],\n",
              "  'title': '[1.1] Introduction to Microprocessors',\n",
              "  'url_suffix': '/watch?v=mh3aVTdDsfo',\n",
              "  'views': '2,930 views'}]"
            ]
          },
          "metadata": {},
          "execution_count": 30
        }
      ]
    },
    {
      "cell_type": "markdown",
      "metadata": {
        "id": "EmrBxLEFOosi"
      },
      "source": [
        ""
      ]
    },
    {
      "cell_type": "code",
      "metadata": {
        "id": "rdPt017Os24y"
      },
      "source": [
        "def search_books(name):\n",
        "  grab = []\n",
        "  num_page = 20\n",
        "  sp = search(f\"{name} books filetype:pdf\", num_page)\n",
        "  #print(sp)\n",
        "  #requests.get(f'https://www.google.com/search?q={mnm} books filetype:pdf')\n",
        "  #sup = BeautifulSoup(sp.results, \"html.parser\")\n",
        "  #lsl = sup.find_all('a')\n",
        "  # for i in lsl:\n",
        "  #   print(i)\n",
        "  #   if i['href'].endswith('.pdf'):\n",
        "  #     grap.append(i)\n",
        "  a = []\n",
        "  for i in sp:\n",
        "    if i.endswith('pdf'):\n",
        "      a.append(i)\n",
        "  return a"
      ],
      "execution_count": null,
      "outputs": []
    },
    {
      "cell_type": "code",
      "metadata": {
        "colab": {
          "base_uri": "https://localhost:8080/"
        },
        "id": "DXN9P2iaCLtU",
        "outputId": "92d926bc-0484-4896-a602-817573c79548"
      },
      "source": [
        "search_books('microprocessors')"
      ],
      "execution_count": null,
      "outputs": [
        {
          "output_type": "stream",
          "name": "stdout",
          "text": [
            "https://www.google.com/search?&q=microprocessors+books+filetype:pdf&num=20\n"
          ]
        },
        {
          "output_type": "execute_result",
          "data": {
            "text/plain": [
              "['https://userpages.umbc.edu/~squire/intel_book.pdf',\n",
              " 'http://ume.gatech.edu/mechatronics_lab/Basic%20Microprocessors%20and%20the%206800%20(Ron%20Bishop)(1979).pdf',\n",
              " 'https://www.analog.com/media/en/training-seminars/design-handbooks/microprocessor-systems-handbook/Microprocessor_Systems_Handbook.pdf',\n",
              " 'https://adityaeeeb.weebly.com/uploads/4/2/0/0/42007913/mpmc_textbook_godse.pdf',\n",
              " 'http://hcvgm.org/Static/Books/[6800]%20Microprocessors%20-%20Book%201%20and%202%20(Heathkit)(1985).pdf',\n",
              " 'https://link.springer.com/content/pdf/bfm%3A978-1-349-16651-0%2F1.pdf',\n",
              " 'http://mobile.kwc.edu/user_manual_8085_microprocessor_kit.pdf',\n",
              " 'http://itt-tech.info/wp-content/uploads/2016/09/ET355P_16_Syllabus.pdf',\n",
              " 'https://blog.mrprintables.com/s/images/H4W7U7/theory-and-practice-of-microprocessors_pdf',\n",
              " 'http://www.csit-sun.pub.ro/courses/cn1CA/MicroprocessorDesign_20111005.pdf',\n",
              " 'http://sites.music.columbia.edu/cmc/courses/g6610/fall2016/week8/Musical_Applications_of_Microprocessors-Charmberlin.pdf',\n",
              " 'http://ee.sharif.edu/~sakhtar3/books/The%208051%20Microcontroller%20Ayala/The%208051%20Microcontroller%20Architecture,%20Programming%20and%20Applications%201991.pdf',\n",
              " 'https://edunext.io/q/LectureNote/V8H3X6/computer-architecture-from-microprocessors-to-supercomputers-solutions_pdf']"
            ]
          },
          "metadata": {},
          "execution_count": 12
        }
      ]
    },
    {
      "cell_type": "code",
      "metadata": {
        "id": "KzBcUE1jEc9O"
      },
      "source": [
        "/video POST json{name, link}\n",
        "/video-course POST get args(link, course_code)"
      ],
      "execution_count": null,
      "outputs": []
    },
    {
      "cell_type": "code",
      "metadata": {
        "id": "jfoxaK47Xuus"
      },
      "source": [
        "\n",
        "def save_data():\n",
        "  data_dict = {\n",
        "      'courses':Courses,\n",
        "      'books':Books,\n",
        "      'preps':Preps,\n",
        "      'projects':Projects,\n",
        "      'main':main,\n",
        "      'slides':Slides,\n",
        "      'base_url':base_url,\n",
        "      'uri_base':uri_base\n",
        "  }\n",
        "\n",
        "  filename = 'population.pickle'\n",
        "  outfile = open(drive_path + filename,'wb')\n",
        "  pickle.dump(data_dict,outfile)\n",
        "  outfile.close()\n",
        "\n",
        "\n",
        "def load_data():\n",
        "  filename = 'population.pickle'\n",
        "  infile = open(drive_path+filename,'rb')\n",
        "  new_dict = pickle.load(infile)\n",
        "  infile.close()\n",
        "\n",
        "  main = new_dict['main']\n",
        "  Courses = new_dict['courses']\n",
        "  Books = new_dict['books']\n",
        "  Preps = new_dict['preps']\n",
        "  Projects = new_dict['projects']\n",
        "  Slides = new_dict['slides']\n",
        "  base_url = new_dict['base_url']\n",
        "  uri_base = new_dict['uri_base']\n"
      ],
      "execution_count": null,
      "outputs": []
    },
    {
      "cell_type": "code",
      "metadata": {
        "id": "wVeog7GRZ0Ni"
      },
      "source": [
        "save_data()"
      ],
      "execution_count": null,
      "outputs": []
    },
    {
      "cell_type": "code",
      "metadata": {
        "id": "0Wcmvg24c0Db"
      },
      "source": [
        "load_data()"
      ],
      "execution_count": null,
      "outputs": []
    },
    {
      "cell_type": "code",
      "metadata": {
        "id": "6x4EnMhkE6J_"
      },
      "source": [
        "list_of_Programs = [\n",
        "  'agricultural',\n",
        "  'chemical',\n",
        "  'civil',\n",
        "  'electrical',\n",
        "  'geomatic',\n",
        "  'mechanical',\n",
        "  'computer',\n",
        "  'materials',\n",
        "  'aerospace',\n",
        "  'petroleum',\n",
        "  'telecommunications',\n",
        "  'geological',\n",
        "  'biomedical',\n",
        "  'petrochemical',\n",
        "  'metallurgical',\n",
        "  'automobile',\n",
        "  'industrial',\n",
        "  'marine'\n",
        "]"
      ],
      "execution_count": null,
      "outputs": []
    },
    {
      "cell_type": "code",
      "metadata": {
        "id": "VRhiIjNvIyao"
      },
      "source": [
        "main = {\n",
        "#program:{\n",
        " #[]=>[8]=>[\n",
        "   #{name, link, program, sem},{},{},{}\n",
        " #]   \n",
        "#}  \n",
        "}\n",
        "Courses = {\n",
        "    \n",
        "    #name\n",
        "    #course code/link : {\n",
        "     #books[link], slides[link],   projects[link], preps[link] \n",
        "    #}\n",
        "    #about\n",
        "}\n",
        "\n",
        "Books = {\n",
        "    #link :{\n",
        "     #name: ' ', link:''\n",
        "    #}\n",
        "}\n",
        "Slides = {\n",
        "    #link:{\n",
        "     #'name':'', link:''   \n",
        "    #}\n",
        "}\n",
        "\n",
        "Projects = {\n",
        "    #link:{\n",
        "     #name: link:   \n",
        "    #}\n",
        "}\n",
        "Preps = {\n",
        "    #link{\n",
        "     #name: link:   \n",
        "    #}\n",
        "}\n",
        "\n",
        "base_url = \"https://github.com/akietorna/COE356-The-Blossoms-Portable-library/tree/main/course%20materials/programs\"\n",
        "uri_base = 'https://github.com'"
      ],
      "execution_count": null,
      "outputs": []
    },
    {
      "cell_type": "code",
      "metadata": {
        "id": "_owbxjxleRfD"
      },
      "source": [
        "for program in list_of_Programs:\n",
        "  main[program] = [[],[],[],[],\n",
        "                   [],[],[],[]]"
      ],
      "execution_count": null,
      "outputs": []
    },
    {
      "cell_type": "code",
      "metadata": {
        "colab": {
          "base_uri": "https://localhost:8080/"
        },
        "id": "6WuvqY2uGjf2",
        "outputId": "47f2ac86-5451-41c0-d2b6-2c7ce9eef894"
      },
      "source": [
        "for program in list_of_Programs[:]:\n",
        "  temp_courses = []\n",
        "  # main[program] = [[],[],[],[],\n",
        "  #                  [],[],[],[]]\n",
        "  for sem in range(8):\n",
        "    temp_courses = get_courses(sem+1, program)\n",
        "    main[program][sem] = temp_courses\n",
        "    if len(temp_courses)>0:\n",
        "      for cs in temp_courses:\n",
        "        #if cs['link'] not in Courses:\n",
        "          Courses[cs['link']]={\n",
        "              'books':[],\n",
        "              'slides':[],\n",
        "              'preps':[],\n",
        "              'projects':[]\n",
        "          }\n",
        "          add_course(course_code=cs['link'], name=cs['name'])\n",
        "          add_course_to_program(course_code=cs['link'], program=program, sem=sem+1)\n",
        "\n",
        "          cs_books = scrape_books(cs['link'])\n",
        "          if len(cs_books)>0:\n",
        "            for cb in cs_books:\n",
        "              if cb!=None:\n",
        "                Courses[cs['link']]['books'].append(cb['link'])\n",
        "                Books[cb['link']]=cb\n",
        "                add_book(name = cb['name'], link=cb['link'])\n",
        "                book_to_course(course_code=cs['link'], link=cb['link'])\n",
        "\n",
        "\n",
        "          cs_slides = scrape_slides(cs['link'])\n",
        "          if len(cs_slides)>0:\n",
        "            for cb in cs_slides:\n",
        "              if cb!=None:\n",
        "                Courses[cs['link']]['slides'].append(cb['link'])\n",
        "                Slides[cb['link']]=cb\n",
        "                add_slide(course_code=cs['link'], name=cb['name'], link=cb['link'])\n",
        "\n",
        "\n",
        "          cs_preps = scrape_preps(cs['link'])\n",
        "          if len(cs_preps)>0:\n",
        "            for cb in cs_preps:\n",
        "              if cb!=None:\n",
        "                Courses[cs['link']]['preps'].append(cb['link'])\n",
        "                Preps[cb['link']]=cb\n",
        "                add_prep(course_code=cs['link'], name=cb['name'], link=cb['link'])   \n",
        "\n",
        "\n",
        "          cs_projects = scrape_projects(cs['link'])\n",
        "          if len(cs_projects)>0:\n",
        "            for cb in cs_projects:\n",
        "              if cb!=None:\n",
        "                Courses[cs['link']]['projects'].append(cb['link'])\n",
        "                Projects[cb['link']]=cb\n",
        "                add_project(course_code=cs['link'], name=cb['name'], link=cb['link'])\n",
        "          \n",
        "      #get_courses\n",
        "  save_data()"
      ],
      "execution_count": null,
      "outputs": [
        {
          "output_type": "stream",
          "name": "stdout",
          "text": [
            "Slide added\n"
          ]
        }
      ]
    },
    {
      "cell_type": "code",
      "metadata": {
        "colab": {
          "base_uri": "https://localhost:8080/"
        },
        "id": "YSFC4WKl8z9e",
        "outputId": "73857614-c252-459a-d7c8-5c0c27fdfcb2"
      },
      "source": [
        "add_course_to_program(course_code='/akietorna/COE356-The-Blossoms-Portable-library/tree/main/course%20materials/programs/marine/2/basic%20mechanics', program='marine', sem=2)"
      ],
      "execution_count": null,
      "outputs": [
        {
          "output_type": "stream",
          "name": "stdout",
          "text": [
            "Program Course relation added\n"
          ]
        }
      ]
    },
    {
      "cell_type": "code",
      "metadata": {
        "id": "xisR6e_64e0b"
      },
      "source": [
        ""
      ],
      "execution_count": null,
      "outputs": []
    },
    {
      "cell_type": "code",
      "metadata": {
        "colab": {
          "base_uri": "https://localhost:8080/"
        },
        "id": "_ZO_fxAN93sl",
        "outputId": "7221cdef-1357-44d0-9d45-da03c52a609f"
      },
      "source": [
        "code = '/akietorna/COE356-The-Blossoms-Portable-library/tree/main/course%20materials/programs/chemical/1/engineering%20drawing'\n",
        "requests.get('http://ewinlab.pythonanywhere.com/course?code='+code).json()"
      ],
      "execution_count": null,
      "outputs": [
        {
          "output_type": "execute_result",
          "data": {
            "text/plain": [
              "[]"
            ]
          },
          "metadata": {},
          "execution_count": 71
        }
      ]
    },
    {
      "cell_type": "code",
      "metadata": {
        "colab": {
          "base_uri": "https://localhost:8080/",
          "height": 36
        },
        "id": "zP_iNVKVDxrU",
        "outputId": "0f6d8f38-e9a7-43a9-bdd5-500c717733eb"
      },
      "source": [
        "requests.post(url='http://ewinlab.pythonanywhere.com/course', json={\n",
        "    'course_code':code,\n",
        "    'name':'chemical',\n",
        "    'about':''\n",
        "}).text"
      ],
      "execution_count": null,
      "outputs": [
        {
          "output_type": "execute_result",
          "data": {
            "application/vnd.google.colaboratory.intrinsic+json": {
              "type": "string"
            },
            "text/plain": [
              "'already exists'"
            ]
          },
          "metadata": {},
          "execution_count": 70
        }
      ]
    },
    {
      "cell_type": "code",
      "metadata": {
        "colab": {
          "base_uri": "https://localhost:8080/"
        },
        "id": "XUCA2usU_Bou",
        "outputId": "ec50cbb8-39b1-4377-952a-32d3e5f6122b"
      },
      "source": [
        "requests.get('http://ewinlab.pythonanywhere.com/program?name=marine').json()"
      ],
      "execution_count": null,
      "outputs": [
        {
          "output_type": "execute_result",
          "data": {
            "text/plain": [
              "[{'about': 'Marine engineering is the discipline that deals with matters related to the design, innovation, construction and maintenance of seagoing vessels and navigation equipment',\n",
              "  'department': 'marine',\n",
              "  'name': 'marine'}]"
            ]
          },
          "metadata": {},
          "execution_count": 69
        }
      ]
    },
    {
      "cell_type": "code",
      "metadata": {
        "id": "8Q8Cf7A764mS"
      },
      "source": [
        "courses = requests.get('http://ewinlab.pythonanywhere.com/courses')"
      ],
      "execution_count": null,
      "outputs": []
    },
    {
      "cell_type": "code",
      "metadata": {
        "colab": {
          "base_uri": "https://localhost:8080/"
        },
        "id": "HmfzIcutYWX6",
        "outputId": "adce2e76-96e0-4d48-dabf-ac3c3869e560"
      },
      "source": [
        "#save_data()\n",
        "len(Courses.keys())"
      ],
      "execution_count": null,
      "outputs": [
        {
          "output_type": "execute_result",
          "data": {
            "text/plain": [
              "79"
            ]
          },
          "metadata": {},
          "execution_count": 66
        }
      ]
    },
    {
      "cell_type": "code",
      "metadata": {
        "id": "jISOJ-Kq9oK7"
      },
      "source": [
        "'''courses to programs'''\n",
        "from time import sleep\n",
        "\n",
        "for program in list_of_Programs:\n",
        "  for sem in range(8):\n",
        "    courses = get_courses(sem+1, program)\n",
        "    #courses = main[program][sem]\n",
        "    if len(courses)>0:\n",
        "      for course in courses:\n",
        "        \n",
        "        add_course(course_code=course['link'], name=course['name'])\n",
        "        sleep(1)\n",
        "        add_course_to_program(course_code=course['link'], program=program, sem=sem+1)\n",
        "        sleep(1)\n",
        "        \n",
        "        course_books = Courses[course['link']]['books']\n",
        "        if len(course_books)>0:\n",
        "          for bk in course_books:\n",
        "            add_book(name = Books[bk]['name'], link=Books[bk]['link'])\n",
        "            book_to_course(course_code=course['link'], link=Books[bk]['link'])\n",
        "        \n",
        "        sleep(1)\n",
        "        course_slides = Courses[course['link']]['slides']\n",
        "        if len(course_slides)>0:\n",
        "          for sld in course_slides:\n",
        "            add_slide(course_code=course['link'], name=Slides[sld]['name'], link=Slides[sld]['link'])\n",
        "        \n",
        "        sleep(1)\n",
        "        course_projects = Courses[course['link']]['projects']\n",
        "        if len(course_projects)>0:\n",
        "          for proj in course_projects:\n",
        "            add_project(course_code=course['link'], name=Projects[proj]['name'], link=Projects[proj]['link'])\n",
        "        \n",
        "        sleep(1)\n",
        "        course_preps = Courses[course['link']]['preps']\n",
        "        if len(course_preps)>0:\n",
        "          for prep in course_preps:\n",
        "            add_prep(course_code=course['link'], name=Preps[prep]['name'], link=Preps[prep]['link'])"
      ],
      "execution_count": null,
      "outputs": []
    },
    {
      "cell_type": "code",
      "metadata": {
        "id": "mUdtnpXLdgzs"
      },
      "source": [
        "# exit= {\n",
        "#     'a':1\n",
        "# }\n",
        "# if 'a' in exit:\n",
        "#   exit['b'] = 2\n",
        "# print(exit)\n",
        "del exit"
      ],
      "execution_count": null,
      "outputs": []
    },
    {
      "cell_type": "code",
      "metadata": {
        "id": "wz3-dzyVPZgI"
      },
      "source": [
        "def get_courses(sem, program):\n",
        "  courses = []\n",
        "  page = requests.get(base_url+f'/{program}/{sem}')\n",
        "  soup = BeautifulSoup(page.content, \"html.parser\")\n",
        "  elements = soup.find_all(\"a\", class_=\"js-navigation-open Link--primary\")\n",
        "  for i in elements:\n",
        "    #print(i['href'])\n",
        "    #print(i.text.strip())\n",
        "    # for x in undesirables:\n",
        "    #   if x not in i.text:\n",
        "    if any(und in i.text for und in undesirables):\n",
        "      pass\n",
        "    else:\n",
        "      if \"/\" not in i.text:\n",
        "          courses.append({\n",
        "          \"name\":i.text,\n",
        "          \"link\":i['href'],\n",
        "          \"program\": program,\n",
        "          \"sem\":sem})\n",
        "      else:\n",
        "        tl = i.text.split(\"/\")\n",
        "        li = i[\"href\"].split(\"/\")\n",
        "        over = len(tl)-1\n",
        "        \n",
        "        for idx in range(over):\n",
        "          li.pop()\n",
        "        li = '/'.join(li)\n",
        "        courses.append({\n",
        "        \"name\":tl[0],\n",
        "        \"link\":li,\n",
        "        \"program\": program,\n",
        "        \"sem\":sem,\n",
        "        \"/\":True})\n",
        "        \n",
        "      \n",
        "  return courses"
      ],
      "execution_count": null,
      "outputs": []
    },
    {
      "cell_type": "code",
      "metadata": {
        "colab": {
          "base_uri": "https://localhost:8080/"
        },
        "id": "SJ50Y_pgfRy6",
        "outputId": "dfee84f8-f49f-4881-e1f6-1fb3e8f702bb"
      },
      "source": [
        "list_ = ['admin', 'add', 'swear']\n",
        "st = 'siteadmin'\n",
        "if any([x in st for x in list_]):\n",
        "  print( \"found\")\n",
        "else: \n",
        "  print(\"not found\")\n"
      ],
      "execution_count": null,
      "outputs": [
        {
          "name": "stdout",
          "output_type": "stream",
          "text": [
            "found\n"
          ]
        }
      ]
    },
    {
      "cell_type": "code",
      "metadata": {
        "id": "1izTzVGOcmbB"
      },
      "source": [
        "cssss = get_courses(5, 'computer')\n",
        "for i in cssss:\n",
        "  cbbbb = scrape_books(i['link'])\n",
        "  print(i['name'].upper())\n",
        "  for x in cbbbb:\n",
        "    if x!=None:\n",
        "      print(x)\n",
        "  print()"
      ],
      "execution_count": null,
      "outputs": []
    },
    {
      "cell_type": "code",
      "metadata": {
        "colab": {
          "base_uri": "https://localhost:8080/"
        },
        "id": "eOchaQBgop_w",
        "outputId": "9b9cccb9-72b2-4182-98a7-337246f8327d"
      },
      "source": [
        "print([])"
      ],
      "execution_count": null,
      "outputs": [
        {
          "name": "stdout",
          "output_type": "stream",
          "text": [
            "[]\n"
          ]
        }
      ]
    },
    {
      "cell_type": "code",
      "metadata": {
        "id": "UkDDzBIYRtN_"
      },
      "source": [
        "def scrape_books(course_link):\n",
        "  desirable_fol = ['Book', 'Inorgani','Organic','book','pdf']\n",
        "  desirable_files = ['.pdf', '.doc', '.docx', '.xls', '.xlsx', '.ppt', '.pptx', '.jpeg'\n",
        "  '.jpg', '.png', '.PPT', '.txt', '.rtf']\n",
        "  bks = []\n",
        "  #print(uri_base, course_link)\n",
        "  elements = pager(str(uri_base)+str(course_link))\n",
        "\n",
        "  if len(elements)>0:\n",
        "      for i in elements:\n",
        "        # for x in undesirables:\n",
        "        #   if x not in i.text:\n",
        "        \n",
        "        if any(und in i.text for und in undesirables):\n",
        "          pass\n",
        "        else:\n",
        "          for ds in desirable_fol:\n",
        "                if ds in i.text:\n",
        "                  if \"/\" not in i.text:\n",
        "                    #print(i, i.text, i['href'])\n",
        "                    t_uri = uri_base + f\"{i['href']}\"\n",
        "                    files = pager(t_uri)\n",
        "                    if len(files)>0:\n",
        "                      for fl in files:\n",
        "                        clear_output()\n",
        "                        print(fl['href'])\n",
        "                        bks.append(get_file(fl['href']))\n",
        "                \n",
        "                \n",
        "\n",
        "  return bks\n",
        "\n",
        "\n",
        "def scrape_slides(course_link):\n",
        "  desirable_fol = ['Inorganic', 'Slides','Organic','notes','slides', 'materials']\n",
        "  desirable_files = ['.pdf', '.doc', '.docx', '.xls', '.xlsx', '.ppt', '.pptx', '.jpeg'\n",
        "  '.jpg', '.png', '.PPT', '.txt', '.rtf']\n",
        "  bks = []\n",
        "  elements = pager(uri_base+course_link)\n",
        "\n",
        "  if len(elements)>0:\n",
        "      for i in elements:\n",
        "        # for x in undesirables:\n",
        "        #   if x not in i.text:\n",
        "        \n",
        "        if any(und in i.text for und in undesirables):\n",
        "          pass\n",
        "        else:\n",
        "          for ds in desirable_fol:\n",
        "                if ds in i.text:\n",
        "                  if \"/\" not in i.text:\n",
        "                    files = pager(uri_base+i['href'])\n",
        "                    if len(files)>0:\n",
        "                      for fl in files:\n",
        "                        clear_output()\n",
        "                        print(fl['href'])\n",
        "                        bks.append(get_file(fl['href']))\n",
        "                \n",
        "\n",
        "  return bks\n",
        "\n",
        "\n",
        "def scrape_projects(course_link):\n",
        "  desirable_fol = ['projects']\n",
        "  desirable_files = ['.pdf', '.doc', '.docx', '.xls', '.xlsx', '.ppt', '.pptx', '.jpeg'\n",
        "  '.jpg', '.png', '.PPT', '.txt', '.rtf']\n",
        "  bks = []\n",
        "  elements = pager(uri_base+course_link)\n",
        "\n",
        "  if len(elements)>0:\n",
        "      for i in elements:\n",
        "       # for x in undesirables:\n",
        "        #   if x not in i.text:\n",
        "        \n",
        "        if any(und in i.text for und in undesirables):\n",
        "          pass\n",
        "        else:\n",
        "          for ds in desirable_fol:\n",
        "                if ds in i.text:\n",
        "                  if \"/\" not in i.text:\n",
        "                    files = pager(uri_base+i['href'])\n",
        "                    if len(files)>0:\n",
        "                      for fl in files:\n",
        "                        clear_output()\n",
        "                        print(fl['href'])\n",
        "                        bks.append(get_file(fl['href']))\n",
        "                \n",
        "\n",
        "  return bks\n",
        "\n",
        "\n",
        "\n",
        "def scrape_preps(course_link):\n",
        "  desirable_fol = ['Assignments', 'assignments','lab','pasco','question', 'graph']\n",
        "  desirable_files = ['.pdf', '.doc', '.docx', '.xls', '.xlsx', '.ppt', '.pptx', '.jpeg'\n",
        "  '.jpg', '.png', '.PPT', '.txt', '.rtf']\n",
        "  bks = []\n",
        "  elements = pager(uri_base+course_link)\n",
        "\n",
        "  if len(elements)>0:\n",
        "      for i in elements:\n",
        "        # for x in undesirables:\n",
        "        #   if x not in i.text:\n",
        "        \n",
        "        if any(und in i.text for und in undesirables):\n",
        "          pass\n",
        "        else:\n",
        "          for ds in desirable_fol:\n",
        "                if ds in i.text:\n",
        "                  if \"/\" not in i.text:\n",
        "                    files = pager(uri_base+i['href'])\n",
        "                    if len(files)>0:\n",
        "                      for fl in files:\n",
        "                        clear_output()\n",
        "                        print(fl['href'])\n",
        "                        bks.append(get_file(fl['href']))\n",
        "                \n",
        "\n",
        "  return bks"
      ],
      "execution_count": null,
      "outputs": []
    },
    {
      "cell_type": "code",
      "metadata": {
        "colab": {
          "base_uri": "https://localhost:8080/"
        },
        "id": "k9Cjg5yvfc_E",
        "outputId": "7f811331-4db9-440b-d046-c4462579fc0c"
      },
      "source": [
        "scrape_books('/akietorna/COE356-The-Blossoms-Portable-library/tree/main/course%20materials/programs/computer/5/microprocessors')"
      ],
      "execution_count": null,
      "outputs": [
        {
          "data": {
            "text/plain": [
              "[{'link': 'https://github.com/akietorna/COE356-The-Blossoms-Portable-library/raw/main/course%20materials/programs/computer/5/microprocessors/books/Assembly%20Language%20for%20x86%20processors%20(7th%20edition).pdf%20(%20PDFDrive%20).pdf',\n",
              "  'name': 'Assembly Language for x86 processors (7th edition).pdf ( PDFDrive ).pdf'},\n",
              " {'link': 'https://github.com/akietorna/COE356-The-Blossoms-Portable-library/raw/main/course%20materials/programs/computer/5/microprocessors/books/Understanding%208085_8086%20Microprocessors%20and%20Peripheral%20ICs%20%20(%20PDFDrive%20).pdf',\n",
              "  'name': 'Understanding 8085_8086 Microprocessors and Peripheral ICs  ( PDFDrive ).pdf'},\n",
              " {'link': 'https://github.com/akietorna/COE356-The-Blossoms-Portable-library/raw/main/course%20materials/programs/computer/5/microprocessors/pdfs/1-%20Introduction%20to%20Microprocessors.pdf',\n",
              "  'name': '1- Introduction to Microprocessors.pdf'},\n",
              " {'link': 'https://github.com/akietorna/COE356-The-Blossoms-Portable-library/raw/main/course%20materials/programs/computer/5/microprocessors/pdfs/2-%20A%20review%20of%20number%20systems.pdf',\n",
              "  'name': '2- A review of number systems.pdf'},\n",
              " {'link': 'https://github.com/akietorna/COE356-The-Blossoms-Portable-library/raw/main/course%20materials/programs/computer/5/microprocessors/pdfs/3-%20Memory%20Interfacing.pdf',\n",
              "  'name': '3- Memory Interfacing.pdf'},\n",
              " {'link': 'https://github.com/akietorna/COE356-The-Blossoms-Portable-library/raw/main/course%20materials/programs/computer/5/microprocessors/pdfs/4-The%20x86%20microprocessor%20architecture%20.pdf',\n",
              "  'name': '4-The x86 microprocessor architecture .pdf'},\n",
              " {'link': 'https://github.com/akietorna/COE356-The-Blossoms-Portable-library/raw/main/course%20materials/programs/computer/5/microprocessors/pdfs/5-%20Assembly%20Language%20Basics.pdf',\n",
              "  'name': '5- Assembly Language Basics.pdf'},\n",
              " {'link': 'https://github.com/akietorna/COE356-The-Blossoms-Portable-library/raw/main/course%20materials/programs/computer/5/microprocessors/pdfs/6-Common%20Operations%20in%20ASL.pdf',\n",
              "  'name': '6-Common Operations in ASL.pdf'},\n",
              " {'link': 'https://github.com/akietorna/COE356-The-Blossoms-Portable-library/raw/main/course%20materials/programs/computer/5/microprocessors/pdfs/A%20review%20of%20number%20systems.pdf',\n",
              "  'name': 'A review of number systems.pdf'},\n",
              " {'link': 'https://github.com/akietorna/COE356-The-Blossoms-Portable-library/raw/main/course%20materials/programs/computer/5/microprocessors/pdfs/ATT_1416960639164_Gyansa-Lutterodt_Jeffery_7751412.pdf',\n",
              "  'name': 'ATT_1416960639164_Gyansa-Lutterodt_Jeffery_7751412.pdf'},\n",
              " {'link': 'https://github.com/akietorna/COE356-The-Blossoms-Portable-library/raw/main/course%20materials/programs/computer/5/microprocessors/pdfs/Address%20Decoding.pdf',\n",
              "  'name': 'Address Decoding.pdf'},\n",
              " {'link': 'https://github.com/akietorna/COE356-The-Blossoms-Portable-library/raw/main/course%20materials/programs/computer/5/microprocessors/pdfs/COE%20381%20Microprocessors%20--%20Dr.%20Boateng%20v2.pdf',\n",
              "  'name': 'COE 381 Microprocessors -- Dr. Boateng v2.pdf'},\n",
              " {'link': 'https://github.com/akietorna/COE356-The-Blossoms-Portable-library/raw/main/course%20materials/programs/computer/5/microprocessors/pdfs/Microcontroller_and_Microprocessor_revie.pdf',\n",
              "  'name': 'Microcontroller_and_Microprocessor_revie.pdf'},\n",
              " {'link': 'https://github.com/akietorna/COE356-The-Blossoms-Portable-library/raw/main/course%20materials/programs/computer/5/microprocessors/pdfs/assembly_language_for_x86_processors.pdf',\n",
              "  'name': 'assembly_language_for_x86_processors.pdf'}]"
            ]
          },
          "execution_count": 48,
          "metadata": {},
          "output_type": "execute_result"
        }
      ]
    },
    {
      "cell_type": "code",
      "metadata": {
        "id": "sYygr32xXhVr"
      },
      "source": [
        "def get_file(sub_link):\n",
        "  desirable_files = ['.pdf', '.doc', '.docx', '.xls', '.xlsx', '.ppt', '.pptx', '.jpeg'\n",
        "  '.jpg', '.png', '.PPT', '.txt', '.rtf']\n",
        "  page = requests.get(uri_base+sub_link)\n",
        "  soup = BeautifulSoup(page.content, \"html.parser\")\n",
        "  download_link = soup.find(\"a\", id=\"raw-url\")\n",
        "  try:\n",
        "      name = soup.find('strong', class_='final-path')\n",
        "  except Exception as e:\n",
        "      clear_output()\n",
        "      print(e)\n",
        "  \n",
        "\n",
        "  clear_output()\n",
        "  print(f'{uri_base+sub_link}')\n",
        "\n",
        "  for x in desirable_files:\n",
        "    if name!=None:\n",
        "      if name.text.endswith(x):\n",
        "        return {\n",
        "          'name':name.text,\n",
        "          'link':uri_base+download_link['href']\n",
        "      }"
      ],
      "execution_count": null,
      "outputs": []
    },
    {
      "cell_type": "code",
      "metadata": {
        "colab": {
          "base_uri": "https://localhost:8080/"
        },
        "id": "z4rB8K9oaqJT",
        "outputId": "7408e7e2-db26-4e1e-fed1-ac6f3c2f8d44"
      },
      "source": [
        "print(get_file('/akietorna/COE356-The-Blossoms-Portable-library/blob/main/course materials/programs/chemical/3/computer applications/slides/Lect_4_a_Flowcharts_loop_structures.ppt'))"
      ],
      "execution_count": null,
      "outputs": [
        {
          "name": "stdout",
          "output_type": "stream",
          "text": [
            "https://github.com/akietorna/COE356-The-Blossoms-Portable-library/blob/main/course materials/programs/chemical/3/computer applications/slides/Lect_4_a_Flowcharts_loop_structures.ppt\n",
            "{'name': 'Lect_4_a_Flowcharts_loop_structures.ppt', 'link': 'https://github.com/akietorna/COE356-The-Blossoms-Portable-library/raw/main/course%20materials/programs/chemical/3/computer%20applications/slides/Lect_4_a_Flowcharts_loop_structures.ppt'}\n"
          ]
        }
      ]
    },
    {
      "cell_type": "code",
      "metadata": {
        "id": "79mOXz6uYZun"
      },
      "source": [
        "def pager(uri):\n",
        "   page = requests.get(uri)\n",
        "   soup = BeautifulSoup(page.content, \"html.parser\")\n",
        "   return soup.find_all(\"a\", class_=\"js-navigation-open Link--primary\")"
      ],
      "execution_count": null,
      "outputs": []
    },
    {
      "cell_type": "code",
      "metadata": {
        "colab": {
          "base_uri": "https://localhost:8080/"
        },
        "id": "vK7dlwS2bvTZ",
        "outputId": "28af8469-63d8-4588-fc55-9b49399ca2d4"
      },
      "source": [
        "pprint.pprint(pager(uri_base+'/akietorna/COE356-The-Blossoms-Portable-library/tree/main/course materials/programs/chemical/3/computer applications/slides'))"
      ],
      "execution_count": null,
      "outputs": [
        {
          "output_type": "stream",
          "name": "stdout",
          "text": [
            "[<a class=\"js-navigation-open Link--primary\" data-pjax=\"#repo-content-pjax-container\" href=\"/akietorna/COE356-The-Blossoms-Portable-library/blob/main/course%20materials/programs/chemical/3/computer%20applications/slides/Lect_4_a_Flowcharts_loop_structures.ppt\" title=\"Lect_4_a_Flowcharts_loop_structures.ppt\">Lect_4_a_Flowcharts_loop_structures.ppt</a>,\n",
            " <a class=\"js-navigation-open Link--primary\" data-pjax=\"#repo-content-pjax-container\" href=\"/akietorna/COE356-The-Blossoms-Portable-library/blob/main/course%20materials/programs/chemical/3/computer%20applications/slides/Lecture_3_Introduction%20to%20Scientific%20Computing.ppt\" title=\"Lecture_3_Introduction to Scientific Computing.ppt\">Lecture_3_Introduction to Scientific Computing.ppt</a>,\n",
            " <a class=\"js-navigation-open Link--primary\" data-pjax=\"#repo-content-pjax-container\" href=\"/akietorna/COE356-The-Blossoms-Portable-library/blob/main/course%20materials/programs/chemical/3/computer%20applications/slides/Lecture_4_Finding%20Roots%20of%20Nonlinear%20eqns(1).ppt\" title=\"Lecture_4_Finding Roots of Nonlinear eqns(1).ppt\">Lecture_4_Finding Roots of Nonlinear eqns(1).ppt</a>,\n",
            " <a class=\"js-navigation-open Link--primary\" data-pjax=\"#repo-content-pjax-container\" href=\"/akietorna/COE356-The-Blossoms-Portable-library/blob/main/course%20materials/programs/chemical/3/computer%20applications/slides/Lecture_4_Finding%20Roots%20of%20Nonlinear%20eqns.ppt\" title=\"Lecture_4_Finding Roots of Nonlinear eqns.ppt\">Lecture_4_Finding Roots of Nonlinear eqns.ppt</a>]\n"
          ]
        }
      ]
    },
    {
      "cell_type": "code",
      "metadata": {
        "id": "iT7lxEg3Itw8"
      },
      "source": [
        "main"
      ],
      "execution_count": null,
      "outputs": []
    },
    {
      "cell_type": "code",
      "metadata": {
        "id": "dKCZAcZoG_Nb"
      },
      "source": [
        "def get_course_folders(link):\n",
        "  folders = []\n",
        "  page = requests.get(uri_base+f'/{link}')\n",
        "  soup = BeautifulSoup(page.content, \"html.parser\")\n",
        "  elements = soup.find_all(\"a\", class_=\"js-navigation-open Link--primary\")\n",
        "  for i in elements:\n",
        "    #print(i['href'])\n",
        "    #print(i.text.strip())\n",
        "    if \"ignore\" not in i.text:\n",
        "      if \"/\" not in i.text:\n",
        "        folders.append(i.text)\n",
        "      else:\n",
        "        tl = i.text.split(\"/\")\n",
        "        li = i[\"href\"].split(\"/\")\n",
        "        over = len(tl)-1\n",
        "        \n",
        "        for idx in range(over):\n",
        "          li.pop()\n",
        "        li = '/'.join(li)\n",
        "        folders.append(tl[0])\n",
        "  return folders"
      ],
      "execution_count": null,
      "outputs": []
    },
    {
      "cell_type": "code",
      "metadata": {
        "id": "1iaC-NL6KsH0"
      },
      "source": [
        "folders = []\n",
        "for program in list_of_Programs:\n",
        "  #temp_courses = []\n",
        "  # main[program] = []\n",
        "  for sem in range(8):\n",
        "    #temp_courses = get_courses(sem+1, program)\n",
        "    #main[program].append(temp_courses)\n",
        "    #get_courses\n",
        "    for idx_course in range(len(main[program][sem])):\n",
        "      if len(main[program][sem][idx_course])>0:\n",
        "        folders.extend(get_course_folders(main[program][sem][idx_course]['link']))"
      ],
      "execution_count": null,
      "outputs": []
    },
    {
      "cell_type": "code",
      "metadata": {
        "id": "_xWWx343M882"
      },
      "source": [
        "folders = set(folders)\n",
        "pprint.pprint(folders)"
      ],
      "execution_count": null,
      "outputs": []
    },
    {
      "cell_type": "code",
      "metadata": {
        "id": "f1Qkx_mLSzlD"
      },
      "source": [
        "undesirables = ['.pdf', '.doc',  '.docx', '.ppt', '.png',\n",
        "      '.jpg','.jpeg' ,'.mp4', '.mp3','.tmp',\n",
        "      '.ini','.pptx','.xlsx','.xls', '.PPT', '.db', 'ignore']\n",
        "#match = []\n",
        "#del(match)\n",
        "# for val in folders.copy():\n",
        "#   for x in undesirables:\n",
        "#     if x in val:\n",
        "#       folders.discard(val)"
      ],
      "execution_count": null,
      "outputs": []
    },
    {
      "cell_type": "code",
      "metadata": {
        "colab": {
          "base_uri": "https://localhost:8080/"
        },
        "id": "64DkEv0KUxK0",
        "outputId": "342d2b20-f70c-42d3-8d26-ca5bbeefc1dc"
      },
      "source": [
        "folders"
      ],
      "execution_count": null,
      "outputs": [
        {
          "data": {
            "text/plain": [
              "{'Assignments',\n",
              " 'Books',\n",
              " 'Inorganic',\n",
              " 'Inorganic Chemistry Research',\n",
              " 'Kielson Slides',\n",
              " 'Lecture notes',\n",
              " 'Organic',\n",
              " 'Organic Chemistry Research',\n",
              " 'Physical',\n",
              " 'assignments',\n",
              " 'asynchronous slides',\n",
              " 'books',\n",
              " 'coe382_slides_2k20',\n",
              " 'graph',\n",
              " 'lab',\n",
              " 'lab reports',\n",
              " 'labs',\n",
              " 'lecture materials',\n",
              " 'lecture notes',\n",
              " 'lecure notes',\n",
              " 'pasco',\n",
              " 'pdf',\n",
              " 'pdfs',\n",
              " 'projects',\n",
              " 'question',\n",
              " 'questions',\n",
              " 'slides',\n",
              " 'videos'}"
            ]
          },
          "execution_count": 70,
          "metadata": {},
          "output_type": "execute_result"
        }
      ]
    },
    {
      "cell_type": "code",
      "metadata": {
        "id": "GRnqku3_h5wQ"
      },
      "source": [
        ""
      ],
      "execution_count": null,
      "outputs": []
    },
    {
      "cell_type": "code",
      "metadata": {
        "id": "zMy_0A1_DerO"
      },
      "source": [
        "def add_course(course_code, name, about=''):\n",
        "  data = {\n",
        "      \"name\":name,\n",
        "      \"course_code\":course_code,\n",
        "      \"about\":about\n",
        "  }\n",
        "  response = requests.post(url=api_base+'/course',json=data)\n",
        "  clear_output()\n",
        "  print(response.text)\n",
        "\n",
        "def add_course_to_program(course_code, program, sem):\n",
        "  #args\n",
        "  response = requests.post(url=api_base+f'/program-course?course_code={course_code}&program={program}&sem={sem}')\n",
        "  clear_output()\n",
        "  print(response.text)\n",
        "  pass\n",
        "\n",
        "def add_book(name, link):\n",
        "  #json\n",
        "  data = {\n",
        "      \"name\":name,\n",
        "      \"link\":link,\n",
        "  }\n",
        "  response = requests.post(url=api_base+'/book',json=data)\n",
        "  clear_output()\n",
        "  print(response.text)\n",
        "  pass\n",
        "\n",
        "def book_to_course(course_code, link):\n",
        "  #args\n",
        "  response = requests.post(url=api_base+f'/book-course?course_code={course_code}&link={link}')\n",
        "  clear_output()\n",
        "  print(response.text)\n",
        "  pass\n",
        "\n",
        "def add_slide(course_code, name,link):\n",
        "  #args\n",
        "  response = requests.post(url=api_base+f'/slide?course_code={course_code}&link={link}&name={name}')\n",
        "  clear_output()\n",
        "  print(response.text)\n",
        "  pass\n",
        "\n",
        "def add_project(course_code, name, link):\n",
        "  #args\n",
        "  response = requests.post(url=api_base+f'/project?course_code={course_code}&link={link}&name={name}')\n",
        "  clear_output()\n",
        "  print(response.text)\n",
        "  pass\n",
        "\n",
        "def add_prep(course_code, name, link):\n",
        "  #args\n",
        "  response = requests.post(url=api_base+f'/prep?course_code={course_code}&link={link}&name={name}')\n",
        "  clear_output()\n",
        "  print(response.text)\n",
        "  pass\n",
        "\n",
        "def add_vid(course, name, link):\n",
        "  data = {\n",
        "      \"name\":name,\n",
        "      \"link\":link,\n",
        "  }\n",
        "  result = requests.post(url=api_base+f'/video', json=data)\n",
        "  response = requests.post(url=api_base+f'/videos-courses?link={link}&course_code={course}')\n",
        "  clear_output()\n",
        "  print(response.text)"
      ],
      "execution_count": null,
      "outputs": []
    },
    {
      "cell_type": "code",
      "metadata": {
        "colab": {
          "base_uri": "https://localhost:8080/"
        },
        "id": "WT-yFesF5Y_B",
        "outputId": "e601ccce-14a9-45c1-93b9-0786198fac3f"
      },
      "source": [
        "#add_course('4', 'a', '')\n",
        "add_vid('4', 'ok', '2')"
      ],
      "execution_count": null,
      "outputs": [
        {
          "output_type": "stream",
          "name": "stdout",
          "text": [
            "<!DOCTYPE HTML PUBLIC \"-//W3C//DTD HTML 3.2 Final//EN\">\n",
            "<title>405 Method Not Allowed</title>\n",
            "<h1>Method Not Allowed</h1>\n",
            "<p>The method is not allowed for the requested URL.</p>\n",
            "\n"
          ]
        }
      ]
    },
    {
      "cell_type": "code",
      "metadata": {
        "id": "ZLZUppabxUYK"
      },
      "source": [
        "def del_all_course_to_program():\n",
        "  all_course_to_programs = requests.get(api_base+'/programs-courses')\n",
        "  for i in all_course_to_programs.json()['Programs-Courses']:\n",
        "    clear_output()\n",
        "    print(i)\n",
        "    #data = \n",
        "    requests.delete(api_base+f'/program-course?course_code={i[\"course_code\"]}&program={i[\"program\"]}&sem={i[\"sem\"]}')\n",
        "\n",
        "def del_all_books_courses():\n",
        "  books_courses = requests.get(api_base+'/books-courses')\n",
        "  for i in books_courses.json()['books-courses']:\n",
        "    clear_output()\n",
        "    print(i)\n",
        "    requests.delete(api_base + f'/book-course?link={i[\"link\"]}&course_code={i[\"course_code\"]}')\n",
        "\n",
        "\n",
        "def del_all_books():\n",
        "  all_books = requests.get(api_base + '/books')\n",
        "  for i in all_books.json()['books']:\n",
        "    clear_output()\n",
        "    print(i)\n",
        "    requests.delete(api_base+f'/book?link={i[\"link\"]}')\n",
        "\n",
        "def del_all_slides():\n",
        "  all_books = requests.get(api_base + '/slides')\n",
        "  for i in all_books.json()['slides']:\n",
        "    clear_output()\n",
        "    print(i)\n",
        "    requests.delete(api_base+f'/slide?link={i[\"link\"]}')\n",
        "\n",
        "\n",
        "def del_all_projects():\n",
        "  all_books = requests.get(api_base + '/projects')\n",
        "  for i in all_books.json()['Projects']:\n",
        "    clear_output()\n",
        "    print(i)\n",
        "    requests.delete(api_base+f'/project?link={i[\"link\"]}')\n",
        "\n",
        "\n",
        "def del_all_preps():\n",
        "  all_books = requests.get(api_base + '/preps')\n",
        "  for i in all_books.json()['Preps']:\n",
        "    clear_output()\n",
        "    print(i)\n",
        "    requests.delete(api_base+f'/prep?link={i[\"link\"]}')\n",
        "\n",
        "def del_all_courses():\n",
        "  all_books = requests.get(api_base + '/courses')\n",
        "  for i in all_books.json()['courses']:\n",
        "    clear_output()\n",
        "    print(i)\n",
        "    requests.delete(api_base+f'/course?code={i[\"course_code\"]}')\n",
        "\n",
        "\n",
        "  "
      ],
      "execution_count": null,
      "outputs": []
    },
    {
      "cell_type": "code",
      "metadata": {
        "id": "vmv52xo60Qgv",
        "colab": {
          "base_uri": "https://localhost:8080/"
        },
        "outputId": "74d03e59-6c13-414a-cebf-fa01ac0d7b21"
      },
      "source": [
        "del_all_course_to_program()\n",
        "del_all_books_courses()\n",
        "del_all_books()\n",
        "del_all_slides()\n",
        "del_all_projects()\n",
        "del_all_preps()\n",
        "del_all_courses()"
      ],
      "execution_count": null,
      "outputs": [
        {
          "output_type": "stream",
          "name": "stdout",
          "text": [
            "{'about': '', 'course_code': '/akietorna/COE356-The-Blossoms-Portable-library/tree/main/course%20materials/programs/marine/3/ceng', 'name': 'ceng'}\n"
          ]
        }
      ]
    },
    {
      "cell_type": "code",
      "metadata": {
        "id": "_KhAcqtJ6Kwh"
      },
      "source": [
        "def get_all_courses():\n",
        "  all_books = requests.get(api_base + '/courses')\n",
        "  for i in all_books.json()['courses']:\n",
        "    clear_output()\n",
        "    print(i)"
      ],
      "execution_count": null,
      "outputs": []
    },
    {
      "cell_type": "code",
      "metadata": {
        "id": "xbVA3OWl6K8L"
      },
      "source": [
        "get_all_courses()"
      ],
      "execution_count": null,
      "outputs": []
    },
    {
      "cell_type": "code",
      "metadata": {
        "colab": {
          "base_uri": "https://localhost:8080/",
          "height": 55
        },
        "id": "F6HYZZYxQorT",
        "outputId": "f5934ed2-d92f-4dfb-f4f8-4ad25abab191"
      },
      "source": [
        "'''\n",
        "PREPS\n",
        "  Assignments\n",
        "  assignments\n",
        "  lab reports\n",
        "  lab\n",
        "  labs\n",
        "  pasco\n",
        "  question\n",
        "  questions\n",
        "  graph\n",
        "\n",
        "PROJECTS\n",
        "  projects\n",
        "\n",
        "SLIDES\n",
        "  Inorganic\n",
        "  Slides\n",
        "  notes\n",
        "  Organic\n",
        "  slides\n",
        "  materials\n",
        "\n",
        "BOOKS\n",
        "  Books\n",
        "  Inorganic\n",
        "  Organic\n",
        "  books\n",
        "  pdf\n",
        "'''"
      ],
      "execution_count": null,
      "outputs": [
        {
          "data": {
            "application/vnd.google.colaboratory.intrinsic+json": {
              "type": "string"
            },
            "text/plain": [
              "'\\nPREPS\\n  Assignments\\n  assignments\\n  lab reports\\n  lab\\n  labs\\n  pasco\\n  question\\n  questions\\n  graph\\n\\nPROJECTS\\n  projects\\n\\nSLIDES\\n  Inorganic\\n  Slides\\n  notes\\n  Organic\\n  slides\\n  materials\\n\\nBOOKS\\n  Books\\n  Inorganic\\n  Organic\\n  books\\n'"
            ]
          },
          "execution_count": 67,
          "metadata": {},
          "output_type": "execute_result"
        }
      ]
    },
    {
      "cell_type": "code",
      "metadata": {
        "id": "ZGQs2mRXepgj"
      },
      "source": [
        "api_base = 'http://ewinLab.pythonanywhere.com/'"
      ],
      "execution_count": null,
      "outputs": []
    },
    {
      "cell_type": "code",
      "metadata": {
        "colab": {
          "base_uri": "https://localhost:8080/"
        },
        "id": "3zCrWtw0ei_j",
        "outputId": "4837a97c-f8af-4d70-a306-d833fb95167c"
      },
      "source": [
        "books_courses = requests.get(api_base+'/courses')\n",
        "print(books_courses.json())"
      ],
      "execution_count": null,
      "outputs": [
        {
          "name": "stdout",
          "output_type": "stream",
          "text": [
            "{'courses': []}\n"
          ]
        }
      ]
    },
    {
      "cell_type": "code",
      "metadata": {
        "id": "OTGZvGLEhc-i"
      },
      "source": [
        "for i in books_courses.json()['courses']:\n",
        "  #print(i)\n",
        "  path = api_base + f'/course?code={i[\"course_code\"]}'\n",
        "  requests.delete(path)"
      ],
      "execution_count": null,
      "outputs": []
    },
    {
      "cell_type": "code",
      "metadata": {
        "id": "raewFLc4Wdgx"
      },
      "source": [
        "get_courses(1, 'aerospace')"
      ],
      "execution_count": null,
      "outputs": []
    },
    {
      "cell_type": "code",
      "metadata": {
        "id": "O4D3OlBfM8eI"
      },
      "source": [
        "{com:\n",
        " [\n",
        "  []x8\n",
        " ]}"
      ],
      "execution_count": null,
      "outputs": []
    },
    {
      "cell_type": "code",
      "metadata": {
        "id": "96KLBO9eK8PO"
      },
      "source": [
        "print(soup)"
      ],
      "execution_count": null,
      "outputs": []
    },
    {
      "cell_type": "code",
      "metadata": {
        "colab": {
          "base_uri": "https://localhost:8080/"
        },
        "id": "fSecL-n6KMUE",
        "outputId": "67497591-7d31-49ea-d3c1-1f396bbf5d18"
      },
      "source": [
        "for i in range(8):\n",
        "  print(i)"
      ],
      "execution_count": null,
      "outputs": [
        {
          "name": "stdout",
          "output_type": "stream",
          "text": [
            "0\n",
            "1\n",
            "2\n",
            "3\n",
            "4\n",
            "5\n",
            "6\n",
            "7\n"
          ]
        }
      ]
    }
  ]
}